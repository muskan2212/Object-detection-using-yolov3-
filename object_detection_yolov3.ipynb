{
 "cells": [
  {
   "cell_type": "code",
   "execution_count": 1,
   "metadata": {},
   "outputs": [],
   "source": [
    "import numpy as np\n",
    "import cv2\n",
    "import time"
   ]
  },
  {
   "cell_type": "code",
   "execution_count": 2,
   "metadata": {},
   "outputs": [
    {
     "name": "stdout",
     "output_type": "stream",
     "text": [
      "Starting\n"
     ]
    }
   ],
   "source": [
    "print(\"Starting\")"
   ]
  },
  {
   "cell_type": "code",
   "execution_count": 3,
   "metadata": {},
   "outputs": [],
   "source": [
    "image_bgr = cv2.imread('PH.jpg')\n"
   ]
  },
  {
   "cell_type": "code",
   "execution_count": 4,
   "metadata": {},
   "outputs": [],
   "source": [
    "h, w = image_bgr.shape[:2]  # Slicing from tuple only first two elements"
   ]
  },
  {
   "cell_type": "code",
   "execution_count": 5,
   "metadata": {},
   "outputs": [],
   "source": [
    "blob = cv2.dnn.blobFromImage(image_bgr, 1 / 255.0, (416, 416),\n",
    "                             swapRB=True, crop=False)\n"
   ]
  },
  {
   "cell_type": "code",
   "execution_count": null,
   "metadata": {},
   "outputs": [
    {
     "name": "stdout",
     "output_type": "stream",
     "text": [
      "Objects Detection took 2.83240 seconds\n",
      "Object 1: slight\n",
      "Object 2: slight\n",
      "Object 3: slight\n",
      "Object 4: slight\n",
      "\n",
      "total 4\n"
     ]
    }
   ],
   "source": [
    "with open('classes.name') as f:\n",
    "    # creating list out of names\n",
    "    labels = [line.strip() for line in f]\n",
    "network = cv2.dnn.readNetFromDarknet('yolov3_custom.cfg',\n",
    "                                     'C:/Users/hp/OneDrive/Desktop/Project/weights/yolov3_custom_final.weights')\n",
    "\n",
    "layers_names_all = network.getLayerNames()\n",
    "\n",
    "layers_names_output = \\\n",
    "    [layers_names_all[i - 1] for i in network.getUnconnectedOutLayers()]\n",
    "\n",
    "\n",
    "probability_minimum = 0.1\n",
    "threshold = 0.3\n",
    "colours = np.random.randint(0, 255, size=(len(labels), 3), dtype='uint8')\n",
    "\n",
    "\n",
    "network.setInput(blob)  # setting blob as input to the network\n",
    "start = time.time()\n",
    "output_from_network = network.forward(layers_names_output)\n",
    "end = time.time()\n",
    "\n",
    "# Showing spent time for forward pass\n",
    "print('Objects Detection took {:.5f} seconds'.format(end - start))\n",
    "\n",
    "bounding_boxes = []\n",
    "confidences = []\n",
    "class_numbers = []\n",
    "\n",
    "for result in output_from_network:\n",
    "    for detected_objects in result:\n",
    "        \n",
    "        scores = detected_objects[5:]\n",
    "        \n",
    "        class_current = np.argmax(scores)\n",
    "        \n",
    "        confidence_current = scores[class_current]\n",
    "        if confidence_current > probability_minimum:\n",
    "            \n",
    "            box_current = detected_objects[0:4] * np.array([w, h, w, h])\n",
    "\n",
    "            \n",
    "            x_center, y_center, box_width, box_height = box_current\n",
    "            x_min = int(x_center - (box_width / 2))\n",
    "            y_min = int(y_center - (box_height / 2))\n",
    "\n",
    "            # Adding results into prepared lists\n",
    "            bounding_boxes.append([x_min, y_min, int(box_width), int(box_height)])\n",
    "            confidences.append(float(confidence_current))\n",
    "            class_numbers.append(class_current)\n",
    "\n",
    "\n",
    "\n",
    "results = cv2.dnn.NMSBoxes(bounding_boxes, confidences,\n",
    "                           probability_minimum, threshold)\n",
    "counter = 1\n",
    "\n",
    "# Checking if there is at least one detected object after non-maximum suppression\n",
    "if len(results) > 0:\n",
    "    c=0\n",
    "    # Going through indexes of results\n",
    "    for i in results.flatten():\n",
    "        # Showing labels of the detected objects\n",
    "        print('Object {0}: {1}'.format(counter, labels[int(class_numbers[i])]))\n",
    "        c=c+1;\n",
    "        # Incrementing counter\n",
    "        counter += 1\n",
    "        x_min, y_min = bounding_boxes[i][0], bounding_boxes[i][1]\n",
    "        box_width, box_height = bounding_boxes[i][2], bounding_boxes[i][3]\n",
    "\n",
    "        colour_box_current = colours[class_numbers[i]].tolist()\n",
    "        cv2.rectangle(image_bgr, (x_min, y_min),\n",
    "                      (x_min + box_width, y_min + box_height),\n",
    "                      colour_box_current, 2)\n",
    "\n",
    "        # Preparing text with label and confidence for current bounding box\n",
    "        text_box_current = '{}: {:.4f}'.format(labels[int(class_numbers[i])],\n",
    "                                               confidences[i])\n",
    "\n",
    "        # Putting text with label and confidence on the original image\n",
    "        cv2.putText(image_bgr, text_box_current, (x_min, y_min - 5),\n",
    "                    cv2.FONT_HERSHEY_COMPLEX, 0.7, colour_box_current, 2)\n",
    "\n",
    "\n",
    "\n",
    "print()\n",
    "print(\"total\",c)\n",
    "#print('Total objects been detected:', len(bounding_boxes))\n",
    "#print('Number of objects left after non-maximum suppression:', counter - 1)\n",
    "\n",
    "cv2.namedWindow('Detections', cv2.WINDOW_NORMAL)\n",
    "# Pay attention! 'cv2.imshow' takes images in BGR format\n",
    "cv2.imshow('Detections', image_bgr)\n",
    "# Waiting for any key being pressed\n",
    "cv2.waitKey(0)\n",
    "# Destroying opened window with name 'Detections'\n",
    "cv2.destroyWindow('Detections')"
   ]
  },
  {
   "cell_type": "code",
   "execution_count": null,
   "metadata": {},
   "outputs": [],
   "source": []
  }
 ],
 "metadata": {
  "kernelspec": {
   "display_name": "Python 3",
   "language": "python",
   "name": "python3"
  },
  "language_info": {
   "codemirror_mode": {
    "name": "ipython",
    "version": 3
   },
   "file_extension": ".py",
   "mimetype": "text/x-python",
   "name": "python",
   "nbconvert_exporter": "python",
   "pygments_lexer": "ipython3",
   "version": "3.8.3"
  }
 },
 "nbformat": 4,
 "nbformat_minor": 4
}
